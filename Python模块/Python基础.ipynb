{
 "cells": [
  {
   "cell_type": "code",
   "execution_count": 33,
   "metadata": {},
   "outputs": [
    {
     "name": "stdout",
     "output_type": "stream",
     "text": [
      "say something:ok\n",
      "ok\n"
     ]
    }
   ],
   "source": [
    "#python之禅\n",
    "import this\n",
    "\n",
    "name=input(\"say something:\")#输入 \n",
    "print(name)"
   ]
  },
  {
   "cell_type": "code",
   "execution_count": 17,
   "metadata": {},
   "outputs": [
    {
     "name": "stdout",
     "output_type": "stream",
     "text": [
      "5\n",
      "5\n",
      "5\n",
      "[64, 81, 100]\n",
      "100\n"
     ]
    }
   ],
   "source": [
    "#列表\n",
    "\n",
    "a=[1,2,3,4,5]\n",
    "print(a[-1])#最后一个元素\n",
    "print(len(a))\n",
    "del a[0]\n",
    "print(a.pop())\n",
    "b=[value**2 for value in range(1,11)]#前闭后开\n",
    "print(b[-3:])\n",
    "index=100\n",
    "if index in b:#检查是否在列表中包含\n",
    "    print(index)"
   ]
  },
  {
   "cell_type": "code",
   "execution_count": 29,
   "metadata": {},
   "outputs": [
    {
     "name": "stdout",
     "output_type": "stream",
     "text": [
      "key:\txposition\n",
      "value:\t0\n",
      "key:\typosition\n",
      "value:\t25\n",
      "key:\tcolor\n",
      "value:\tblue\n",
      "color\n",
      "xposition\n",
      "yposition\n"
     ]
    }
   ],
   "source": [
    "#字典\n",
    "\n",
    "alien={}\n",
    "alien['xposition']=0#添加键值对\n",
    "alien['yposition']=25\n",
    "alien['color']='blue'\n",
    "#del alien['color']#删除键值对\n",
    "#遍历\n",
    "for key,value in alien.items():#返回字典中键值对\n",
    "    print(\"key:\\t\"+str(key))\n",
    "    print(\"value:\\t\"+str(value))\n",
    "#按序遍历健\n",
    "for key in sorted(alien.keys()):#使用sorted排序\n",
    "    print(key)"
   ]
  },
  {
   "cell_type": "code",
   "execution_count": 4,
   "metadata": {},
   "outputs": [
    {
     "name": "stdout",
     "output_type": "stream",
     "text": [
      "\n",
      " I have a dog, its name is Harry\n",
      "-mushrooms\n",
      "-peppers\n",
      "-cheese\n"
     ]
    }
   ],
   "source": [
    "#函数\n",
    "\n",
    "def describe(Pname,Ptype='dog'):#指定默认参数\n",
    "    print(\"\\n I have a \"+Ptype+\", its name is \"+Pname)\n",
    "describe(Pname='Harry')#指定形参值\n",
    "\n",
    "#接受任意数量实参\n",
    "def make_pizza(*toppings):#将输入保存到元组toppings\n",
    "    for topping in toppings:\n",
    "        print(\"-\"+topping)\n",
    "make_pizza('mushrooms','peppers','cheese')        \n",
    "        \n",
    "#外部模块中导入\n",
    "#from Note import make_pizza as mp\n",
    "#as 指定别名\n"
   ]
  },
  {
   "cell_type": "code",
   "execution_count": 16,
   "metadata": {},
   "outputs": [
    {
     "name": "stdout",
     "output_type": "stream",
     "text": [
      "2021 Audi A8\n",
      "This car has 20000000 on it.\n",
      "2021 Tesla Model X\n",
      "My Tesla's Battery Size is 70\n"
     ]
    }
   ],
   "source": [
    "#类\n",
    "\n",
    "#example\n",
    "class Car():\n",
    "    def __init__(self,make,model,year):#init前后双下划线\n",
    "        self.make=make\n",
    "        self.model=model\n",
    "        self.year=year\n",
    "        self.meters=0\n",
    "        \n",
    "    def get_info(self):\n",
    "        longname=str(self.year)+' '+str(self.make)+' '+str(self.model)\n",
    "        return longname.title()\n",
    "    \n",
    "    def read_meters(self):\n",
    "        print(\"This car has \"+str(self.meters)+\" on it.\")\n",
    "        \n",
    "    def update_meters(self,m):\n",
    "        if m>=self.meters:\n",
    "            self.meters=m\n",
    "        else:\n",
    "            print(\"You cannot roll back!\")\n",
    "            \n",
    "mycar=Car('audi','a8','2021')\n",
    "mycar.update_meters(20000000)\n",
    "print(mycar.get_info())\n",
    "mycar.read_meters()\n",
    "\n",
    "#继承\n",
    "class ElectricCar(Car):\n",
    "    def __init__(self,make,model,year):\n",
    "        super().__init__(make,model,year)\n",
    "        #添加新属性\n",
    "        self.battery_size=70\n",
    "        \n",
    "myTesla=ElectricCar('tesla','model x',2021)\n",
    "print(myTesla.get_info())\n",
    "print(\"My Tesla's Battery Size is \"+str(myTesla.battery_size))"
   ]
  },
  {
   "cell_type": "code",
   "execution_count": 29,
   "metadata": {},
   "outputs": [
    {
     "name": "stdout",
     "output_type": "stream",
     "text": [
      "I write this new Line\n",
      "I add a new line\n",
      "I add a new line\n",
      "fg jqfh jqwfdo qjfj qjbf\n",
      "I add a new line\n",
      "fg jqfh jqwfdo qjfj qjbf\n",
      "I write this new LineI add a new lineI add a new linefg jqfh jqwfdo qjfj qjbfI add a new linefg jqfh jqwfdo qjfj qjbf\n",
      "This file has 40 words.\n",
      "\n"
     ]
    }
   ],
   "source": [
    "#文件\n",
    "\n",
    "filepath=\"C:/Users/LENOVO/Desktop/test.txt\"\n",
    "with open(filepath) as f:\n",
    "    for line in f:\n",
    "        print(line.rstrip())#消除空白行\n",
    "\n",
    "        #使用文件 按行存入lines列表 可在with外使用\n",
    "with open(filepath) as f:\n",
    "    lines=f.readlines()\n",
    "pstring=''\n",
    "for line in lines:\n",
    "    pstring+=line.rstrip()\n",
    "print(pstring)\n",
    "\n",
    "#写入文件(覆盖)\n",
    "#with open(filepath,'w') as f:\n",
    "#    f.write(\"I write this new Line\\n\")\n",
    " \n",
    "    #追加append文件\n",
    "with open(filepath,'a') as f:\n",
    "    f.write(\"I add a new line\\n\")\n",
    "    f.write(\"fg jqfh jqwfdo qjfj qjbf\\n\")\n",
    "    \n",
    "#加入异常 统计文件中word数\n",
    "try:\n",
    "    with open(filepath) as f:\n",
    "        contents=f.read()\n",
    "except FileNotFoundError:\n",
    "    msg=\"File has not been found!\\n\"\n",
    "    print(msg)\n",
    "else:\n",
    "    words=contents.split()\n",
    "    number=len(words)\n",
    "    print(\"This file has \"+str(number)+\" words.\\n\")\n",
    "    \n",
    "    \n",
    "\n",
    "\n"
   ]
  },
  {
   "cell_type": "code",
   "execution_count": 33,
   "metadata": {},
   "outputs": [
    {
     "name": "stdout",
     "output_type": "stream",
     "text": [
      "[2, 3, 5, 7, 11, 13]\n"
     ]
    }
   ],
   "source": [
    "#使用json\n",
    "\n",
    "import json\n",
    "\n",
    "filepath=\"C:/Users/LENOVO/Desktop/number.txt\"\n",
    "numbers=[2,3,5,7,11,13]\n",
    "\n",
    "#存储/载入数据\n",
    "with open(filepath,'w') as f:\n",
    "    json.dump(numbers,f)#存储\n",
    "    \n",
    "with open(filepath) as f:\n",
    "    a=json.load(f)#存储\n",
    "print(a)"
   ]
  },
  {
   "cell_type": "code",
   "execution_count": null,
   "metadata": {},
   "outputs": [],
   "source": []
  }
 ],
 "metadata": {
  "kernelspec": {
   "display_name": "Python 3",
   "language": "python",
   "name": "python3"
  },
  "language_info": {
   "codemirror_mode": {
    "name": "ipython",
    "version": 3
   },
   "file_extension": ".py",
   "mimetype": "text/x-python",
   "name": "python",
   "nbconvert_exporter": "python",
   "pygments_lexer": "ipython3",
   "version": "3.7.3"
  }
 },
 "nbformat": 4,
 "nbformat_minor": 2
}
