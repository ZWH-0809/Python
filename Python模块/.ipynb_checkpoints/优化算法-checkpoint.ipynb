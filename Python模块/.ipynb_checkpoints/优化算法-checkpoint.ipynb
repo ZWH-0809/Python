{
 "cells": [
  {
   "cell_type": "code",
   "execution_count": 11,
   "metadata": {},
   "outputs": [
    {
     "name": "stdout",
     "output_type": "stream",
     "text": [
      "{0: (0, 0), 1: (18.18240455365373, 14.21004013812693), 2: (10.375164277668256, 6.4052075364635686), 3: (18.482469151912376, 4.441516161357278), 4: (10.814761982274844, 14.776603705947595), 5: (9.458727015723916, 7.669446717414578), 6: (0.4259747467094388, 9.084457848489336), 7: (12.077391520012375, 15.508031307970914), 8: (8.878664799659877, 19.12491139225746), 9: (4.49071703748192, 4.845879499903871), 10: (15.410772539914197, 10.331580876089276), 11: (12.851495048788548, 5.454764290283228), 12: (7.831048437543515, 12.922095779339855), 13: (0.4805329850650719, 3.474263718441677), 14: (6.049439278644173, 8.905939412859407), 15: (1.3052203504334137, 15.833565635594697), 16: (3.6634041124266448, 8.343814297927054), 17: (12.376919943209428, 7.372862957634235), 18: (7.27043061199838, 14.769954421567995), 19: (5.095528040061188, 16.889967661748496), 20: (19.699170438968995, 8.585422313518203), 21: (0, 0)}\n",
      "初始路径: [0, 1, 2, 3, 4, 5, 6, 7, 8, 9, 10, 11, 12, 13, 14, 15, 16, 17, 18, 19, 20, 21]\n",
      "初始路径长度: 226.5821567589458\n",
      "结束温度的局部最优路径: [0, 13, 6, 15, 19, 8, 18, 12, 4, 7, 1, 10, 20, 3, 11, 17, 2, 5, 14, 16, 9, 21]\n",
      "结束温度的局部最优路径长度: 83.5173063874893\n",
      "最好路径: [0, 13, 6, 15, 19, 8, 18, 12, 4, 7, 1, 10, 20, 3, 11, 17, 2, 5, 14, 16, 9, 21]\n",
      "最好路径长度: 83.5173063874893\n"
     ]
    },
    {
     "data": {
      "image/png": "[encoded data removed]",
      "text/plain": [
       "<Figure size 432x288 with 3 Axes>"
      ]
     },
     "metadata": {
      "needs_background": "light"
     },
     "output_type": "display_data"
    }
   ],
   "source": [
    "#模拟退火求解TSp\n",
    "\n",
    "from matplotlib import pyplot as plt\n",
    "import numpy as np\n",
    "%matplotlib inline\n",
    "    \n",
    "def coordinate_init(size):\n",
    "    #产生坐标字典\n",
    "    coordinate_dict = {}\n",
    "    coordinate_dict[0] = (0, 0)#起点是（0，0）\n",
    "    for i in range(1, size + 1):#顺序标号随机坐标\n",
    "        coordinate_dict[i] = (np.random.uniform(0, size), np.random.uniform(0, size))\n",
    "    coordinate_dict[size + 1] = (0, 0)#终点是（0,0)\n",
    "    return coordinate_dict\n",
    " \n",
    "def distance_matrix(coordinate_dict,size):#生成距离矩阵\n",
    "    d=np.zeros((size+2,size+2))\n",
    "    for i in range(size+1):\n",
    "        for j in range(size+1):\n",
    "            if(i==j):\n",
    "                continue\n",
    "            if(d[i][j]!=0):\n",
    "                continue\n",
    "            x1 = coordinate_dict[i][0]\n",
    "            y1 = coordinate_dict[i][1]\n",
    "            x2 = coordinate_dict[j][0]\n",
    "            y2 = coordinate_dict[j][1]\n",
    "            distance=np.sqrt((x1-x2)**2+(y1-y2)**2)\n",
    "            if(i==0):\n",
    "                d[i][j]=d[size+1][j]=d[j][i]=d[j][size+1]=distance\n",
    "            else:\n",
    "                d[i][j]=d[j][i]=distance\n",
    "    return d\n",
    " \n",
    "def path_length(d_matrix,path_list,size):#计算路径长度\n",
    "    length=0\n",
    "    for i in range(size+1):\n",
    "        length+=d_matrix[path_list[i]][path_list[i+1]]\n",
    "    return length\n",
    " \n",
    "def new_path(path_list,size):\n",
    "    #二交换法\n",
    "    change_head = np.random.randint(1,size+1)\n",
    "    change_tail = np.random.randint(1,size+1)\n",
    "    if(change_head>change_tail):\n",
    "        change_head,change_tail=change_tail,change_head\n",
    "    change_list = path_list[change_head:change_tail + 1]\n",
    "    change_list.reverse()#change_head与change_tail之间的路径反序\n",
    "    new_path_list = path_list[:change_head] + change_list + path_list[change_tail + 1:]\n",
    "    return change_head,change_tail,new_path_list\n",
    " \n",
    "def diff_old_new(d_matrix,path_list,new_path_list,head,tail):#计算新旧路径的长度之差\n",
    "    old_length=d_matrix[path_list[head-1]][path_list[head]]+d_matrix[path_list[tail]][path_list[tail+1]]\n",
    "    new_length=d_matrix[new_path_list[head-1]][new_path_list[head]]+d_matrix[new_path_list[tail]][new_path_list[tail+1]]\n",
    "    delta_p=new_length-old_length\n",
    "    return delta_p\n",
    " \n",
    " \n",
    "T_start=2000#起始温度\n",
    "T_end=1e-20#结束温度\n",
    "a=0.995#降温速率\n",
    "Lk=50#内循环次数,马尔科夫链长\n",
    "size=20\n",
    "coordinate_dict=coordinate_init(size)\n",
    "print(coordinate_dict)#打印坐标字典\n",
    "path_list=list(range(size+2))#初始化路径\n",
    "d=distance_matrix(coordinate_dict,size)#距离矩阵的生成\n",
    "best_path=path_length(d,path_list,size)#初始化最好路径长度\n",
    "print('初始路径:',path_list)\n",
    "print('初始路径长度:',best_path)\n",
    "best_path_temp=[]#记录每个温度下最好路径长度\n",
    "best_path_list=[]#用于记录历史上最好路径\n",
    "balanced_path_list=path_list#记录每个温度下的平衡路径\n",
    "balenced_path_temp=[]#记录每个温度下平衡路径(局部最优)的长度\n",
    "while T_start>T_end:\n",
    "    for i in range(Lk):\n",
    "        head, tail, new_path_list = new_path(path_list, size)\n",
    "        delta_p = diff_old_new(d, path_list, new_path_list, head, tail)\n",
    "        if delta_p < 0:#接受状态\n",
    "            balanced_path_list=path_list = new_path_list\n",
    "            new_len=path_length(d,path_list,size)\n",
    "            if(new_len<best_path):\n",
    "                best_path=new_len\n",
    "                best_path_list=path_list\n",
    "        elif np.random.random() < np.exp(-delta_p / T_start):#以概率接受状态\n",
    "            path_list = new_path_list\n",
    "    path_list=balanced_path_list#继承该温度下的平衡状态（局部最优）\n",
    "    T_start*=a#退火\n",
    "    best_path_temp.append(best_path)\n",
    "    balenced_path_temp.append(path_length(d,balanced_path_list,size))\n",
    "print('结束温度的局部最优路径:',balanced_path_list)\n",
    "print('结束温度的局部最优路径长度:',path_length(d,balanced_path_list,size))\n",
    "print('最好路径:',best_path_list)\n",
    "print('最好路径长度:',best_path)\n",
    "x=[]\n",
    "y=[]\n",
    "for point in best_path_list:\n",
    "    x.append(coordinate_dict[point][0])\n",
    "    y.append(coordinate_dict[point][1])\n",
    "plt.figure(1)\n",
    "plt.subplot(311)\n",
    "plt.plot(balenced_path_temp)#每个温度下平衡路径长度\n",
    "plt.subplot(312)\n",
    "plt.plot(best_path_temp)#每个温度下最好路径长度\n",
    "plt.subplot(313)\n",
    "plt.scatter(x,y)\n",
    "plt.plot(x,y)#路径图\n",
    "plt.grid()\n",
    "plt.show()"
   ]
  },
  {
   "cell_type": "code",
   "execution_count": 2,
   "metadata": {},
   "outputs": [
    {
     "name": "stdout",
     "output_type": "stream",
     "text": [
      "best_x: [1.00710009 0.99304222 0.00695779] \n",
      " best_y: [2.00043186]\n"
     ]
    }
   ],
   "source": [
    "\"\"\"\n",
    "差分进化算法\n",
    "原问题：min f(x1, x2, x3) = x1^2 + x2^2 + x3^2\n",
    "\t\t\t\ts.t.\n",
    "\t\t\t\t    x1*x2 >= 1\n",
    "\t\t\t\t    x1*x2 <= 5\n",
    "\t\t\t\t    x2 + x3 = 1\n",
    "\t\t\t\t    0 <= x1, x2, x3 <= 5\n",
    "\"\"\"\n",
    "\n",
    "\n",
    "def obj_func(p):\n",
    "    x1, x2, x3 = p\n",
    "    return x1 ** 2 + x2 ** 2 + x3 ** 2\n",
    "\n",
    "\n",
    "constraint_eq = [\n",
    "    lambda x: 1 - x[1] - x[2]\n",
    "]\n",
    "\n",
    "constraint_ueq = [\n",
    "    lambda x: 1 - x[0] * x[1],\n",
    "    lambda x: x[0] * x[1] - 5\n",
    "]\n",
    "\n",
    "from sko.DE import DE\n",
    "\n",
    "de = DE(func=obj_func, n_dim=3, size_pop=50, max_iter=800, lb=[0, 0, 0], ub=[5, 5, 5],\n",
    "        constraint_eq=constraint_eq, constraint_ueq=constraint_ueq)\n",
    "\n",
    "best_x, best_y = de.run()\n",
    "print('best_x:', best_x, '\\n', 'best_y:', best_y)\n"
   ]
  },
  {
   "cell_type": "code",
   "execution_count": 7,
   "metadata": {},
   "outputs": [
    {
     "name": "stdout",
     "output_type": "stream",
     "text": [
      "best_x: [ 2.98023233e-08 -2.98023233e-08] \n",
      " best_y: [1.77635684e-15]\n"
     ]
    }
   ],
   "source": [
    "import numpy as np\n",
    "\n",
    "def schaffer(p):\n",
    "    '''\n",
    "    遗传算法\n",
    "    This function has plenty of local minimum, with strong shocks\n",
    "    global minimum at (0,0) with value 0\n",
    "    '''\n",
    "    x1, x2 = p\n",
    "    x = np.square(x1) + np.square(x2)\n",
    "    return 0.5 + (np.sin(x) - 0.5) / np.square(1 + 0.001 * x)\n",
    "\n",
    "from sko.GA import GA\n",
    "\n",
    "ga = GA(func=schaffer, n_dim=2, size_pop=50, max_iter=800, lb=[-1, -1], ub=[1, 1], precision=1e-7)\n",
    "best_x, best_y = ga.run()\n",
    "print('best_x:', best_x, '\\n', 'best_y:', best_y)\n"
   ]
  },
  {
   "cell_type": "code",
   "execution_count": 9,
   "metadata": {},
   "outputs": [
    {
     "name": "stdout",
     "output_type": "stream",
     "text": [
      "best_x is  [0.         0.05000032 0.5       ] best_y is [0.25]\n"
     ]
    },
    {
     "data": {
      "image/png": "[encoded data removed]",
      "text/plain": [
       "<Figure size 432x288 with 1 Axes>"
      ]
     },
     "metadata": {
      "needs_background": "light"
     },
     "output_type": "display_data"
    }
   ],
   "source": [
    "def demo_func(x):\n",
    "    x1, x2, x3 = x\n",
    "    return x1 ** 2 + (x2 - 0.05) ** 2 + x3 ** 2\n",
    "from sko.PSO import PSO\n",
    "\n",
    "pso = PSO(func=demo_func, dim=3, pop=40, max_iter=150, lb=[0, -1, 0.5], ub=[1, 1, 1], w=0.8, c1=0.5, c2=0.5)\n",
    "pso.run()\n",
    "print('best_x is ', pso.gbest_x, 'best_y is', pso.gbest_y)\n",
    "import matplotlib.pyplot as plt\n",
    "%matplotlib inline\n",
    "plt.plot(pso.gbest_y_hist)\n",
    "plt.show()\n"
   ]
  },
  {
   "cell_type": "code",
   "execution_count": 12,
   "metadata": {},
   "outputs": [
    {
     "name": "stdout",
     "output_type": "stream",
     "text": [
      "[[ 0.  0. 10. 10. 10. 10.]\n",
      " [ 3.  3. 10. 13. 13. 13.]\n",
      " [ 3.  9. 12. 13. 19. 22.]\n",
      " [ 3.  9. 12. 14. 19. 22.]\n",
      " [ 6.  9. 15. 18. 20. 25.]]\n",
      "--------------------------------------\n",
      "[['' '' 'water' 'water' 'water' 'water']\n",
      " ['book' 'book' 'water' 'book,water' 'book,water' 'book,water']\n",
      " ['book' 'food' 'food,book' 'book,water' 'food,water' 'food,book,water']\n",
      " ['book' 'food' 'food,book' 'jacket,food' 'food,water' 'food,book,water']\n",
      " ['camera' 'food' 'camera,food' 'camera,food,book' 'camera,jacket,food'\n",
      "  'camera,food,water']]\n"
     ]
    }
   ],
   "source": [
    "#动态规划\n",
    "#背包问题\n",
    "\n",
    "import numpy as np\n",
    " \n",
    "#定义重量\n",
    "weight={}\n",
    "weight[\"water\"]=3\n",
    "weight[\"book\"]=1\n",
    "weight[\"food\"]=2\n",
    "weight[\"jacket\"]=2\n",
    "weight[\"camera\"]=1\n",
    "#定义价值\n",
    "worth={}\n",
    "worth[\"water\"]=10\n",
    "worth[\"book\"]=3\n",
    "worth[\"food\"]=9\n",
    "worth[\"jacket\"]=5\n",
    "worth[\"camera\"]=6\n",
    " \n",
    "#存放行标对应的物品名:\n",
    "table_name={}\n",
    "table_name[0]=\"water\"\n",
    "table_name[1]=\"book\"\n",
    "table_name[2]=\"food\"\n",
    "table_name[3]=\"jacket\"\n",
    "table_name[4]=\"camera\"\n",
    " \n",
    " \n",
    "#创建矩阵,用来保存价值表\n",
    "table=np.zeros((len(weight),6))\n",
    " \n",
    "#创建矩阵，用来保存每个单元格中的价值是如何得到的（物品名）\n",
    "table_class=np.zeros((len(weight), 6), dtype=np.dtype((np.str_,500)))\n",
    " \n",
    "for i in range(0,len(weight)):\n",
    "    for j in range(0,6):\n",
    "        # 获取重量\n",
    "        this_weight = weight[table_name[i]]\n",
    "        # 获得价值\n",
    "        this_worth = worth[table_name[i]]\n",
    "        #获取上一个单元格 (i-1,j)的值\n",
    "        if(i>0):\n",
    "            before_worth=table[i-1,j]\n",
    "            #获取（i-1,j-重量）\n",
    "            temp=0\n",
    "            if(this_weight<=j):\n",
    "                temp=table[i-1,j-this_weight]\n",
    "            #(i-1,j-this_weight)+求当前商品价值\n",
    "            #判断this_worth能不能用，即重量有没有超标，如果重量超标了是不能加的\n",
    "            synthesize_worth=0\n",
    "            if(this_weight-1<=j):\n",
    "                synthesize_worth=this_worth+temp\n",
    "            #与上一个单元格比较,哪个大写入哪个\n",
    "            if(synthesize_worth>before_worth):\n",
    "                table[i,j]=synthesize_worth\n",
    "                if(temp==0):\n",
    "                    #他自己就超过了\n",
    "                    table_class[i][j] = table_name[i]\n",
    "                else:\n",
    "                    # 他自己和(i-1,j-this_weight)\n",
    "                    table_class[i][j] = table_name[i] + \",\" + table_class[i - 1][j - this_weight]\n",
    "            else:\n",
    "                table[i,j]=before_worth\n",
    "                table_class[i][j]=table_class[i-1][j]\n",
    "        else:\n",
    "            #没有（i-1,j）那更没有(i-1,j-重量),就等于当前商品价值,或者重量不够，是0\n",
    "            if(this_weight-1<=j):\n",
    "                table[i,j]=this_worth\n",
    "                table_class[i][j]=table_name[i]\n",
    "print(table)\n",
    " \n",
    "print(\"--------------------------------------\")\n",
    " \n",
    "print(table_class)"
   ]
  },
  {
   "cell_type": "code",
   "execution_count": null,
   "metadata": {},
   "outputs": [],
   "source": []
  }
 ],
 "metadata": {
  "kernelspec": {
   "display_name": "Python 3",
   "language": "python",
   "name": "python3"
  },
  "language_info": {
   "codemirror_mode": {
    "name": "ipython",
    "version": 3
   },
   "file_extension": ".py",
   "mimetype": "text/x-python",
   "name": "python",
   "nbconvert_exporter": "python",
   "pygments_lexer": "ipython3",
   "version": "3.7.3"
  }
 },
 "nbformat": 4,
 "nbformat_minor": 2
}
