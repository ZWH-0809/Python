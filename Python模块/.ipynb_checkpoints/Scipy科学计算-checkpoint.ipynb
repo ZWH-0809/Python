{
 "cells": [
  {
   "cell_type": "code",
   "execution_count": 5,
   "metadata": {},
   "outputs": [
    {
     "name": "stdout",
     "output_type": "stream",
     "text": [
      "A转置 [[ 1  2  2]\n",
      " [ 3  5  4]\n",
      " [ 5 -1  7]]\n",
      "A行列式 -19.000000000000004\n",
      "A逆 [[-2.05263158  0.05263158  1.47368421]\n",
      " [ 0.84210526  0.15789474 -0.57894737]\n",
      " [ 0.10526316 -0.10526316  0.05263158]]\n",
      "AX=B求解 [-14.31578947   7.05263158   0.63157895]\n"
     ]
    }
   ],
   "source": [
    "#矩阵\n",
    "\n",
    "from scipy import linalg\n",
    "import numpy as np\n",
    "\n",
    "A=np.array([[1,3,5],[2,5,-1],[2,4,7]])\n",
    "B=np.array([10,6,4])\n",
    "\n",
    "print(\"A转置\",A.T)\n",
    "print(\"A行列式\",linalg.det(A))\n",
    "print(\"A逆\",linalg.inv(A))\n",
    "X=linalg.solve(A,B)\n",
    "print(\"AX=B求解\",X)"
   ]
  },
  {
   "cell_type": "code",
   "execution_count": 12,
   "metadata": {},
   "outputs": [
    {
     "name": "stdout",
     "output_type": "stream",
     "text": [
      "    fjac: array([[-1.]])\n",
      "     fun: array([0.])\n",
      " message: 'The solution converged.'\n",
      "    nfev: 10\n",
      "     qtf: array([-2.77666778e-12])\n",
      "       r: array([-3.3472241])\n",
      "  status: 1\n",
      " success: True\n",
      "       x: array([-0.73908513])\n",
      "Optimization terminated successfully.\n",
      "         Current function value: -6.945823\n",
      "         Iterations: 26\n",
      "         Function evaluations: 52\n",
      "Optimization terminated successfully.\n",
      "         Current function value: 9.315586\n",
      "         Iterations: 15\n",
      "         Function evaluations: 30\n",
      "[-1.3064375]\n",
      "[3.83745117]\n",
      "-1.306440096615395\n"
     ]
    },
    {
     "data": {
      "text/plain": [
       "<Figure size 640x480 with 1 Axes>"
      ]
     },
     "metadata": {},
     "output_type": "display_data"
    }
   ],
   "source": [
    "#优化\n",
    "\n",
    "from scipy.optimize import root,fmin,fminbound\n",
    "import numpy as np\n",
    "import matplotlib.pyplot as plt\n",
    "#解方程\n",
    "def f(x):\n",
    "    return 2*x+2*np.cos(x)\n",
    "solution=root(f,0.3)#从0.3开始迭代\n",
    "print(solution)\n",
    "\n",
    "#求极值\n",
    "def fun(x):\n",
    "    return x**2+10*np.sin(x)+1\n",
    "x=np.linspace(-10,10,num=500)#生成x序列\n",
    "min1=fmin(fun,0)#找0附近极小值\n",
    "min2=fmin(fun,3)\n",
    "min=fminbound(fun,-10,10)#全局极小值\n",
    "print(min1)\n",
    "print(min2)\n",
    "print(min)\n",
    "plt.plot(x,fun(x))\n",
    "plt.show()"
   ]
  },
  {
   "cell_type": "code",
   "execution_count": null,
   "metadata": {},
   "outputs": [],
   "source": []
  }
 ],
 "metadata": {
  "kernelspec": {
   "display_name": "Python 3",
   "language": "python",
   "name": "python3"
  },
  "language_info": {
   "codemirror_mode": {
    "name": "ipython",
    "version": 3
   },
   "file_extension": ".py",
   "mimetype": "text/x-python",
   "name": "python",
   "nbconvert_exporter": "python",
   "pygments_lexer": "ipython3",
   "version": "3.7.3"
  }
 },
 "nbformat": 4,
 "nbformat_minor": 2
}
