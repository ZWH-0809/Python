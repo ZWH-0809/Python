{
 "cells": [
  {
   "cell_type": "code",
   "execution_count": null,
   "metadata": {},
   "outputs": [],
   "source": [
    "#pandas 数据分析\n",
    "\n",
    "import pandas as pd\n",
    "\n",
    "#Series 带索引数组\n",
    "value=[1,2,3,4]#或以字典直接创建series\n",
    "i=['a','b','c','d']\n",
    "obj=pd.Series(value,index=i,name='col')#指定index\n",
    "obj.index=range(1,5)#修改索引\n",
    "#print(obj)\n",
    "\n",
    "#DataFrame 表格\n",
    "data={\n",
    "    'name':['张','李','王','明'],\n",
    "    'year':['1999','2000','2020','2021'],\n",
    "    'sex':['female','female','male','male'],\n",
    "    'loc':['001','002','003','004']\n",
    "}\n",
    "df=pd.DataFrame(data,index=['a','b','c','d'])\n",
    "#print(df[df['sex']=='female'])#选取列\n",
    "#print(df[:2])#可切片选行\n",
    "#print(df.shape)#表格大小\n",
    "\n",
    "#交互excel\n",
    "#导入\n",
    "#df2=pd.read_excel('C:/Users/LENOVO/Desktop/demo1.xlsx','Sheet1')\n",
    "\n",
    "#导出\n",
    "#df.to_excel('C:/Users/LENOVO/Desktop/demo2.xlsx','Sheet1')"
   ]
  }
 ],
 "metadata": {
  "kernelspec": {
   "display_name": "Python 3",
   "language": "python",
   "name": "python3"
  },
  "language_info": {
   "codemirror_mode": {
    "name": "ipython",
    "version": 3
   },
   "file_extension": ".py",
   "mimetype": "text/x-python",
   "name": "python",
   "nbconvert_exporter": "python",
   "pygments_lexer": "ipython3",
   "version": "3.7.3"
  }
 },
 "nbformat": 4,
 "nbformat_minor": 2
}
