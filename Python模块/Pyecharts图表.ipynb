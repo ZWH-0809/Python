{
 "cells": [
  {
   "cell_type": "code",
   "execution_count": 1,
   "metadata": {},
   "outputs": [
    {
     "data": {
      "text/plain": [
       "'C:\\\\Users\\\\LENOVO\\\\Python模块\\\\柱状图.html'"
      ]
     },
     "execution_count": 1,
     "metadata": {},
     "output_type": "execute_result"
    }
   ],
   "source": [
    "# 柱状图\n",
    "import random\n",
    "import pyecharts.options as opts\n",
    "from pyecharts.charts import Bar\n",
    "x_vals = ['衬衫', '羊毛衫', '雪纺衫', '裤子', '高跟鞋', '袜子']\n",
    "\n",
    "bar = (\n",
    "    Bar()\n",
    "    .add_xaxis(x_vals)\n",
    "    .add_yaxis('商家A', [80,80,80,80,80,80])\n",
    "    .add_yaxis('商家B', [random.randint(10, 100) for _ in range(6)])\n",
    "    .add_yaxis('商家C', [random.randint(10, 100) for _ in range(6)])\n",
    "    .add_yaxis('商家D', [random.randint(10, 100) for _ in range(6)])\n",
    "    .set_series_opts(label_opts=opts.LabelOpts(is_show=True, font_size=14),\n",
    "                          markline_opts=opts.MarkLineOpts(data=[opts.MarkLineItem(y=40, name=\"达标线=40\")]))\n",
    "    .set_global_opts(title_opts=opts.TitleOpts(title='柱状图示例-销量', subtitle='四个商家'),\n",
    "                     xaxis_opts=opts.AxisOpts(name='商品'),\n",
    "                     yaxis_opts=opts.AxisOpts(name='单位:件'))\n",
    ")\n",
    "bar.render('柱状图.html')"
   ]
  },
  {
   "cell_type": "code",
   "execution_count": 2,
   "metadata": {},
   "outputs": [
    {
     "data": {
      "text/plain": [
       "'D:\\\\Desktop\\\\雷达图.png'"
      ]
     },
     "execution_count": 2,
     "metadata": {},
     "output_type": "execute_result"
    }
   ],
   "source": [
    "# 雷达图\n",
    "import random\n",
    "from pyecharts import options as opts\n",
    "from pyecharts.charts import Page, Radar\n",
    "def radar_simple() -> Radar:\n",
    "    c = (\n",
    "        Radar()\n",
    "        .add_schema(\n",
    "            # 各项的max_值可以不同\n",
    "            schema=[\n",
    "                opts.RadarIndicatorItem(name='计算几何学', max_=100),\n",
    "                opts.RadarIndicatorItem(name='动态规划', max_=100),\n",
    "                opts.RadarIndicatorItem(name='图论', max_=100),\n",
    "                opts.RadarIndicatorItem(name='搜索', max_=100),\n",
    "                opts.RadarIndicatorItem(name='模拟', max_=100),\n",
    "                opts.RadarIndicatorItem(name='数论', max_=100),\n",
    "            ]\n",
    "        )\n",
    "        .add('旺神', [[random.randint(10, 101) for _ in range(6)]],           \n",
    "             color='red',           \n",
    "             areastyle_opts = opts.AreaStyleOpts(  #设置填充的属性\n",
    "                 opacity = 0.5,                  \n",
    "                 color='red'                     \n",
    "         ),)\n",
    "        .add('蔡队', [[random.randint(10, 101) for _ in range(6)]],\n",
    "             color='blue',\n",
    "             areastyle_opts = opts.AreaStyleOpts(\n",
    "                 opacity = 0.5,#透明度\n",
    "                 color='blue'\n",
    "         ),)\n",
    "        .set_series_opts(label_opts=opts.LabelOpts(is_show=True))\n",
    "        .set_global_opts(title_opts=opts.TitleOpts(title='雷达图示例-ACM集训队队员能力'))\n",
    "    )\n",
    "    return c\n",
    "radar_simple().render('D:\\\\Desktop\\\\雷达图.html')\n"
   ]
  },
  {
   "cell_type": "code",
   "execution_count": 3,
   "metadata": {},
   "outputs": [
    {
     "data": {
      "text/plain": [
       "'C:\\\\Users\\\\LENOVO\\\\Python模块\\\\词云图.html'"
      ]
     },
     "execution_count": 3,
     "metadata": {},
     "output_type": "execute_result"
    }
   ],
   "source": [
    "# 词云图\n",
    "from pyecharts import options as opts\n",
    "from pyecharts.charts import WordCloud\n",
    "from pyecharts.globals import SymbolType\n",
    "\n",
    "words = [\n",
    "    ('背包问题', 10000),\n",
    "    ('大整数', 6181),\n",
    "    ('Karatsuba乘法算法', 4386),\n",
    "    ('穷举搜索', 4055),\n",
    "    ('傅里叶变换', 2467),\n",
    "    ('状态树遍历', 2244),\n",
    "    ('剪枝', 1868),\n",
    "    ('Gale-shapley', 1484),\n",
    "    ('最大匹配与匈牙利算法', 1112),\n",
    "    ('线索模型', 865),\n",
    "    ('关键路径算法', 847),\n",
    "    ('最小二乘法曲线拟合', 582),\n",
    "    ('二分逼近法', 555),\n",
    "    ('牛顿迭代法', 550),\n",
    "    ('Bresenham算法', 462),\n",
    "    ('粒子群优化', 366),\n",
    "    ('Dijkstra', 360),\n",
    "    ('A*算法', 282),\n",
    "    ('负极大极搜索算法', 273),\n",
    "    ('估值函数', 265)\n",
    "]\n",
    "def wordcloud_base() -> WordCloud:\n",
    "    c = (\n",
    "        WordCloud()\n",
    "        .add(\"\", words, word_size_range=[20, 100], shape=SymbolType.ROUND_RECT)\n",
    "        .set_global_opts(title_opts=opts.TitleOpts(title='WordCloud示例-OJ搜索关键字'))\n",
    "    )\n",
    "    return c\n",
    "wordcloud_base().render('词云图.html')"
   ]
  },
  {
   "cell_type": "code",
   "execution_count": 7,
   "metadata": {},
   "outputs": [
    {
     "data": {
      "text/plain": [
       "'C:\\\\Users\\\\LENOVO\\\\Python模块\\\\圆环图.html'"
      ]
     },
     "execution_count": 7,
     "metadata": {},
     "output_type": "execute_result"
    }
   ],
   "source": [
    "from pyecharts.charts import Pie\n",
    "import random\n",
    "pie = (\n",
    "    Pie()\n",
    "    .add(\n",
    "        '鼠标选中分区后的tip',\n",
    "        [list(z) for z in zip(['20{}年第{}季'.format(year,season)   \n",
    "                                    for year in [19, 20]  # count 2                                        \n",
    "                                            for season in range(1,5)] # count 2\n",
    "            ,[random.randint(2, 10) for _ in range(8)])],\n",
    "        radius=['50%', '75%'],          #设置内径外径           \n",
    "        label_opts=opts.LabelOpts(is_show=True)        \n",
    "    )\n",
    "    .set_global_opts(title_opts=opts.TitleOpts(title='圆环图示例-近两年季度销售'),\n",
    "                     legend_opts=opts.LegendOpts(is_show=False))\n",
    ")\n",
    "pie.render('圆环图.html')\n"
   ]
  },
  {
   "cell_type": "code",
   "execution_count": 5,
   "metadata": {},
   "outputs": [
    {
     "data": {
      "text/plain": [
       "'C:\\\\Users\\\\LENOVO\\\\Python模块\\\\玫瑰图.html'"
      ]
     },
     "execution_count": 5,
     "metadata": {},
     "output_type": "execute_result"
    }
   ],
   "source": [
    "# 玫瑰图\n",
    "from pyecharts.charts import Pie\n",
    "pie = (\n",
    "    Pie()\n",
    "    .add(\n",
    "        '鼠标选中分区后的tip',\n",
    "        [list(z) for z in zip(['20{}年第{}季'.format(year,season)   \n",
    "                                    for year in [19, 20]  # count 2                                        \n",
    "                                            for season in range(1,5)] # count 2\n",
    "            ,[random.randint(0, 10) for _ in range(8)])],\n",
    "        radius=['10%', '75%'],          #设置内径外径\n",
    "        # rosetype='radius' 圆心角展现数据百分比，半径展现数据大小\n",
    "        # rosetype='area' 圆心角相同，为通过半径展现数据大小\n",
    "        rosetype='radius',             \n",
    "        label_opts=opts.LabelOpts(is_show=True)        \n",
    "    )\n",
    "    .set_global_opts(title_opts=opts.TitleOpts(title='玫瑰图示例-近两年季度销售'),\n",
    "                     legend_opts=opts.LegendOpts(is_show=False))\n",
    ")\n",
    "pie.render('玫瑰图.html')\n"
   ]
  },
  {
   "cell_type": "code",
   "execution_count": 1,
   "metadata": {},
   "outputs": [
    {
     "data": {
      "text/html": [
       "<div style=\"width:100%;\"><div style=\"position:relative;width:100%;height:0;padding-bottom:60%;\"><span style=\"color:#565656\">Make this Notebook Trusted to load map: File -> Trust Notebook</span><iframe src=\"about:blank\" style=\"position:absolute;width:100%;height:100%;left:0;top:0;border:none !important;\" data-html=%3C%21DOCTYPE%20html%3E%0A%3Chead%3E%20%20%20%20%0A%20%20%20%20%3Cmeta%20http-equiv%3D%22content-type%22%20content%3D%22text/html%3B%20charset%3DUTF-8%22%20/%3E%0A%20%20%20%20%0A%20%20%20%20%20%20%20%20%3Cscript%3E%0A%20%20%20%20%20%20%20%20%20%20%20%20L_NO_TOUCH%20%3D%20false%3B%0A%20%20%20%20%20%20%20%20%20%20%20%20L_DISABLE_3D%20%3D%20false%3B%0A%20%20%20%20%20%20%20%20%3C/script%3E%0A%20%20%20%20%0A%20%20%20%20%3Cstyle%3Ehtml%2C%20body%20%7Bwidth%3A%20100%25%3Bheight%3A%20100%25%3Bmargin%3A%200%3Bpadding%3A%200%3B%7D%3C/style%3E%0A%20%20%20%20%3Cstyle%3E%23map%20%7Bposition%3Aabsolute%3Btop%3A0%3Bbottom%3A0%3Bright%3A0%3Bleft%3A0%3B%7D%3C/style%3E%0A%20%20%20%20%3Cscript%20src%3D%22https%3A//cdn.jsdelivr.net/npm/leaflet%401.6.0/dist/leaflet.js%22%3E%3C/script%3E%0A%20%20%20%20%3Cscript%20src%3D%22https%3A//code.jquery.com/jquery-1.12.4.min.js%22%3E%3C/script%3E%0A%20%20%20%20%3Cscript%20src%3D%22https%3A//maxcdn.bootstrapcdn.com/bootstrap/3.2.0/js/bootstrap.min.js%22%3E%3C/script%3E%0A%20%20%20%20%3Cscript%20src%3D%22https%3A//cdnjs.cloudflare.com/ajax/libs/Leaflet.awesome-markers/2.0.2/leaflet.awesome-markers.js%22%3E%3C/script%3E%0A%20%20%20%20%3Clink%20rel%3D%22stylesheet%22%20href%3D%22https%3A//cdn.jsdelivr.net/npm/leaflet%401.6.0/dist/leaflet.css%22/%3E%0A%20%20%20%20%3Clink%20rel%3D%22stylesheet%22%20href%3D%22https%3A//maxcdn.bootstrapcdn.com/bootstrap/3.2.0/css/bootstrap.min.css%22/%3E%0A%20%20%20%20%3Clink%20rel%3D%22stylesheet%22%20href%3D%22https%3A//maxcdn.bootstrapcdn.com/bootstrap/3.2.0/css/bootstrap-theme.min.css%22/%3E%0A%20%20%20%20%3Clink%20rel%3D%22stylesheet%22%20href%3D%22https%3A//maxcdn.bootstrapcdn.com/font-awesome/4.6.3/css/font-awesome.min.css%22/%3E%0A%20%20%20%20%3Clink%20rel%3D%22stylesheet%22%20href%3D%22https%3A//cdnjs.cloudflare.com/ajax/libs/Leaflet.awesome-markers/2.0.2/leaflet.awesome-markers.css%22/%3E%0A%20%20%20%20%3Clink%20rel%3D%22stylesheet%22%20href%3D%22https%3A//cdn.jsdelivr.net/gh/python-visualization/folium/folium/templates/leaflet.awesome.rotate.min.css%22/%3E%0A%20%20%20%20%0A%20%20%20%20%20%20%20%20%20%20%20%20%3Cmeta%20name%3D%22viewport%22%20content%3D%22width%3Ddevice-width%2C%0A%20%20%20%20%20%20%20%20%20%20%20%20%20%20%20%20initial-scale%3D1.0%2C%20maximum-scale%3D1.0%2C%20user-scalable%3Dno%22%20/%3E%0A%20%20%20%20%20%20%20%20%20%20%20%20%3Cstyle%3E%0A%20%20%20%20%20%20%20%20%20%20%20%20%20%20%20%20%23map_458f097806a5439a97debe68cd8a7077%20%7B%0A%20%20%20%20%20%20%20%20%20%20%20%20%20%20%20%20%20%20%20%20position%3A%20relative%3B%0A%20%20%20%20%20%20%20%20%20%20%20%20%20%20%20%20%20%20%20%20width%3A%20100.0%25%3B%0A%20%20%20%20%20%20%20%20%20%20%20%20%20%20%20%20%20%20%20%20height%3A%20100.0%25%3B%0A%20%20%20%20%20%20%20%20%20%20%20%20%20%20%20%20%20%20%20%20left%3A%200.0%25%3B%0A%20%20%20%20%20%20%20%20%20%20%20%20%20%20%20%20%20%20%20%20top%3A%200.0%25%3B%0A%20%20%20%20%20%20%20%20%20%20%20%20%20%20%20%20%7D%0A%20%20%20%20%20%20%20%20%20%20%20%20%3C/style%3E%0A%20%20%20%20%20%20%20%20%0A%3C/head%3E%0A%3Cbody%3E%20%20%20%20%0A%20%20%20%20%0A%20%20%20%20%20%20%20%20%20%20%20%20%3Cdiv%20class%3D%22folium-map%22%20id%3D%22map_458f097806a5439a97debe68cd8a7077%22%20%3E%3C/div%3E%0A%20%20%20%20%20%20%20%20%0A%3C/body%3E%0A%3Cscript%3E%20%20%20%20%0A%20%20%20%20%0A%20%20%20%20%20%20%20%20%20%20%20%20var%20map_458f097806a5439a97debe68cd8a7077%20%3D%20L.map%28%0A%20%20%20%20%20%20%20%20%20%20%20%20%20%20%20%20%22map_458f097806a5439a97debe68cd8a7077%22%2C%0A%20%20%20%20%20%20%20%20%20%20%20%20%20%20%20%20%7B%0A%20%20%20%20%20%20%20%20%20%20%20%20%20%20%20%20%20%20%20%20center%3A%20%5B0%2C%200%5D%2C%0A%20%20%20%20%20%20%20%20%20%20%20%20%20%20%20%20%20%20%20%20crs%3A%20L.CRS.EPSG3857%2C%0A%20%20%20%20%20%20%20%20%20%20%20%20%20%20%20%20%20%20%20%20zoom%3A%201%2C%0A%20%20%20%20%20%20%20%20%20%20%20%20%20%20%20%20%20%20%20%20zoomControl%3A%20true%2C%0A%20%20%20%20%20%20%20%20%20%20%20%20%20%20%20%20%20%20%20%20preferCanvas%3A%20false%2C%0A%20%20%20%20%20%20%20%20%20%20%20%20%20%20%20%20%7D%0A%20%20%20%20%20%20%20%20%20%20%20%20%29%3B%0A%0A%20%20%20%20%20%20%20%20%20%20%20%20%0A%0A%20%20%20%20%20%20%20%20%0A%20%20%20%20%0A%20%20%20%20%20%20%20%20%20%20%20%20var%20tile_layer_a37f239db6b148a79a85492cc8a3b279%20%3D%20L.tileLayer%28%0A%20%20%20%20%20%20%20%20%20%20%20%20%20%20%20%20%22https%3A//%7Bs%7D.tile.openstreetmap.org/%7Bz%7D/%7Bx%7D/%7By%7D.png%22%2C%0A%20%20%20%20%20%20%20%20%20%20%20%20%20%20%20%20%7B%22attribution%22%3A%20%22Data%20by%20%5Cu0026copy%3B%20%5Cu003ca%20href%3D%5C%22http%3A//openstreetmap.org%5C%22%5Cu003eOpenStreetMap%5Cu003c/a%5Cu003e%2C%20under%20%5Cu003ca%20href%3D%5C%22http%3A//www.openstreetmap.org/copyright%5C%22%5Cu003eODbL%5Cu003c/a%5Cu003e.%22%2C%20%22detectRetina%22%3A%20false%2C%20%22maxNativeZoom%22%3A%2018%2C%20%22maxZoom%22%3A%2018%2C%20%22minZoom%22%3A%200%2C%20%22noWrap%22%3A%20false%2C%20%22opacity%22%3A%201%2C%20%22subdomains%22%3A%20%22abc%22%2C%20%22tms%22%3A%20false%7D%0A%20%20%20%20%20%20%20%20%20%20%20%20%29.addTo%28map_458f097806a5439a97debe68cd8a7077%29%3B%0A%20%20%20%20%20%20%20%20%0A%3C/script%3E onload=\"this.contentDocument.open();this.contentDocument.write(    decodeURIComponent(this.getAttribute('data-html')));this.contentDocument.close();\" allowfullscreen webkitallowfullscreen mozallowfullscreen></iframe></div></div>"
      ],
      "text/plain": [
       "<folium.folium.Map at 0x1b4e35be898>"
      ]
     },
     "execution_count": 1,
     "metadata": {},
     "output_type": "execute_result"
    }
   ],
   "source": [
    "import folium\n",
    "import pandas as pd\n",
    "\n",
    "# define the world map\n",
    "world_map = folium.Map()\n",
    "\n",
    "# display world map\n",
    "world_map\n"
   ]
  },
  {
   "cell_type": "code",
   "execution_count": null,
   "metadata": {},
   "outputs": [],
   "source": []
  }
 ],
 "metadata": {
  "kernelspec": {
   "display_name": "Python 3",
   "language": "python",
   "name": "python3"
  },
  "language_info": {
   "codemirror_mode": {
    "name": "ipython",
    "version": 3
   },
   "file_extension": ".py",
   "mimetype": "text/x-python",
   "name": "python",
   "nbconvert_exporter": "python",
   "pygments_lexer": "ipython3",
   "version": "3.7.3"
  }
 },
 "nbformat": 4,
 "nbformat_minor": 2
}
