{
 "cells": [
  {
   "cell_type": "code",
   "execution_count": 1,
   "metadata": {},
   "outputs": [
    {
     "name": "stdout",
     "output_type": "stream",
     "text": [
      "Collecting salib\n",
      "  Downloading https://files.pythonhosted.org/packages/ba/36/84735444f4faded327e1158ed15228a3ff57268f351c799f0038ee68b53f/SALib-1.3.12.tar.gz (855kB)\n",
      "Requirement already satisfied: numpy in e:\\file\\lib\\site-packages (from salib) (1.16.2)\n",
      "Requirement already satisfied: scipy in e:\\file\\lib\\site-packages (from salib) (1.2.1)\n",
      "Requirement already satisfied: matplotlib in e:\\file\\lib\\site-packages (from salib) (3.0.3)\n",
      "Requirement already satisfied: pandas in e:\\file\\lib\\site-packages (from salib) (0.24.2)\n",
      "Requirement already satisfied: cycler>=0.10 in e:\\file\\lib\\site-packages (from matplotlib->salib) (0.10.0)\n",
      "Requirement already satisfied: kiwisolver>=1.0.1 in e:\\file\\lib\\site-packages (from matplotlib->salib) (1.0.1)\n",
      "Requirement already satisfied: pyparsing!=2.0.4,!=2.1.2,!=2.1.6,>=2.0.1 in e:\\file\\lib\\site-packages (from matplotlib->salib) (2.3.1)\n",
      "Requirement already satisfied: python-dateutil>=2.1 in e:\\file\\lib\\site-packages (from matplotlib->salib) (2.8.0)\n",
      "Requirement already satisfied: pytz>=2011k in e:\\file\\lib\\site-packages (from pandas->salib) (2018.9)\n",
      "Requirement already satisfied: six in e:\\file\\lib\\site-packages (from cycler>=0.10->matplotlib->salib) (1.12.0)\n",
      "Requirement already satisfied: setuptools in e:\\file\\lib\\site-packages (from kiwisolver>=1.0.1->matplotlib->salib) (40.8.0)\n",
      "Building wheels for collected packages: salib\n",
      "  Building wheel for salib (setup.py): started\n",
      "  Building wheel for salib (setup.py): finished with status 'done'\n",
      "  Stored in directory: C:\\Users\\LENOVO\\AppData\\Local\\pip\\Cache\\wheels\\04\\5c\\9f\\09d58ab84d5a7ef7d2e5fedc5cd2f46a64a77c99035571aa0c\n",
      "Successfully built salib\n",
      "Installing collected packages: salib\n",
      "Successfully installed salib-1.3.12\n",
      "Note: you may need to restart the kernel to use updated packages.\n"
     ]
    }
   ],
   "source": [
    "pip install salib"
   ]
  },
  {
   "cell_type": "code",
   "execution_count": 2,
   "metadata": {},
   "outputs": [
    {
     "name": "stdout",
     "output_type": "stream",
     "text": [
      "(8000, 3) (8000,)\n",
      "Parameter S1 S1_conf ST ST_conf\n",
      "x1 0.241379 0.035512 0.233006 0.022426\n",
      "x2 -0.001635 0.075843 0.757444 0.072423\n",
      "x3 -0.019499 0.078779 0.746122 0.079562\n",
      "\n",
      "Parameter_1 Parameter_2 S2 S2_conf\n",
      "x1 x2 -0.002905 0.049603\n",
      "x1 x3 -0.007212 0.058641\n",
      "x2 x3 0.768228 0.124827\n",
      "\n",
      "S1: [ 0.24137922 -0.00163541 -0.01949871]\n",
      "x1-x2: -0.0029050009015768557\n",
      "x1-x3: -0.007212159874777583\n",
      "x2-x3: 0.7682277244642012\n"
     ]
    },
    {
     "data": {
      "image/png": "[encoded data removed]",
      "text/plain": [
       "<Figure size 432x288 with 1 Axes>"
      ]
     },
     "metadata": {
      "needs_background": "light"
     },
     "output_type": "display_data"
    }
   ],
   "source": [
    "from SALib.sample import saltelli\n",
    "from SALib.analyze import sobol\n",
    "import numpy as np\n",
    "import math\n",
    "%matplotlib inline\n",
    "# Define the model inputs\n",
    "problem = {\n",
    "    'num_vars': 3,\n",
    "    'names': ['x1', 'x2', 'x3'],\n",
    "    'bounds': [[-3.14159265359, 3.14159265359],\n",
    "               [-3.14159265359, 3.14159265359],\n",
    "               [-3.14159265359, 3.14159265359]]\n",
    "}\n",
    " \n",
    " \n",
    "def evaluate(X):  # 这里是我们要进行灵敏度分析的模型,接受一个数组,每个数组元素作为模型的一个输入,模型的输出是一个float,干函数返回的时候再讲所有输出并起来\n",
    "    return np.array([math.sin(x[0]) + x[1] * math.cos(2 * x[2]) for x in X])\n",
    " \n",
    " \n",
    "# Generate samples\n",
    "param_values = saltelli.sample(problem, 1000)\n",
    " \n",
    "# Run model (example)\n",
    "Y = evaluate(param_values)\n",
    "print(param_values.shape, Y.shape)\n",
    "# Perform analysis (这里运行完成后会自动对结果进行展示)\n",
    "Si = sobol.analyze(problem, Y, print_to_console=True)\n",
    "print()\n",
    " \n",
    "# Print the first-order sensitivity indices  一阶灵敏度\n",
    "print('S1:', Si['S1'])\n",
    " \n",
    "# Print the second-order sensitivity indices   二阶灵敏度\n",
    "print(\"x1-x2:\", Si['S2'][0, 1])\n",
    "print(\"x1-x3:\", Si['S2'][0, 2])\n",
    "print(\"x2-x3:\", Si['S2'][1, 2])\n",
    "\n",
    "from SALib.plotting.bar import plot as barplot\n",
    "import matplotlib.pyplot as plot\n",
    " \n",
    "Si_df = Si.to_df()\n",
    "barplot(Si_df[0])\n",
    "plot.show()"
   ]
  },
  {
   "cell_type": "code",
   "execution_count": null,
   "metadata": {},
   "outputs": [],
   "source": []
  }
 ],
 "metadata": {
  "kernelspec": {
   "display_name": "Python 3",
   "language": "python",
   "name": "python3"
  },
  "language_info": {
   "codemirror_mode": {
    "name": "ipython",
    "version": 3
   },
   "file_extension": ".py",
   "mimetype": "text/x-python",
   "name": "python",
   "nbconvert_exporter": "python",
   "pygments_lexer": "ipython3",
   "version": "3.7.3"
  }
 },
 "nbformat": 4,
 "nbformat_minor": 2
}
