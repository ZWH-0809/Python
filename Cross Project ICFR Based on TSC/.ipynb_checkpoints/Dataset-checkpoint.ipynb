{
 "cells": [
  {
   "cell_type": "code",
   "execution_count": 1,
   "metadata": {},
   "outputs": [],
   "source": [
    "#导入\n",
    "import pandas as pd\n",
    "import numpy as np\n",
    "from sklearn import preprocessing\n",
    "import os\n",
    "from sklearn.cluster import KMeans\n",
    "import math\n",
    "\n",
    "#遍历文件\n",
    "dfs=[] \n",
    "dirpath=\"D:\\Desktop\\ICFR\\\\\" #设置读取路径，最后一个必须是\\\\\n",
    "for root_dir,sub_dir,files in os.walk(dirpath): #遍历文件\n",
    "    for file in files:\n",
    "        df=pd.read_excel(dirpath+file,encoding='ISO-8859-1', sep='\\t',header=0)\n",
    "        df.eval('flag=flag-1',inplace=True) #设置flag为0，1\n",
    "        #dfs.append(df)\n",
    "        break;\n"
   ]
  },
  {
   "cell_type": "code",
   "execution_count": 2,
   "metadata": {},
   "outputs": [],
   "source": [
    "#提取特征部分\n",
    "x= df.drop('flag', 1)\n",
    "    \n",
    "#z-score标准化数据\n",
    "temp=[]\n",
    "for index,row in df.iteritems():\n",
    "    temp.append(preprocessing.scale(row))\n",
    "for jj in range(0,89):\n",
    "    df.iloc[:,jj]=temp[jj]\n",
    "\n",
    "#构造画图数据\n",
    "df=df.iloc[:,49:90]"
   ]
  },
  {
   "cell_type": "code",
   "execution_count": 16,
   "metadata": {},
   "outputs": [
    {
     "data": {
      "text/plain": [
       "['AT16',\n",
       " 'CB01',\n",
       " 'CB02',\n",
       " 'CB03',\n",
       " 'CB04',\n",
       " 'CB05',\n",
       " 'CB06',\n",
       " 'CB07',\n",
       " 'CB08',\n",
       " 'CB09',\n",
       " 'CB10',\n",
       " 'CB11',\n",
       " 'CB12',\n",
       " 'CB13',\n",
       " 'CB14',\n",
       " 'CB15',\n",
       " 'CB16',\n",
       " 'CB17',\n",
       " 'CB18',\n",
       " 'CB19',\n",
       " 'CB20',\n",
       " 'CB21',\n",
       " 'CB22',\n",
       " 'CB23',\n",
       " 'AB01',\n",
       " 'AB02',\n",
       " 'AB03',\n",
       " 'AB04',\n",
       " 'AB05',\n",
       " 'AB06',\n",
       " 'AB07',\n",
       " 'AB08',\n",
       " 'AB09',\n",
       " 'AB10',\n",
       " 'AB11',\n",
       " 'AB12',\n",
       " 'AB13',\n",
       " 'AB14',\n",
       " 'AB15',\n",
       " 'AB16']"
      ]
     },
     "execution_count": 16,
     "metadata": {},
     "output_type": "execute_result"
    }
   ],
   "source": [
    "#抽取两个簇\n",
    "cluster0=df[(df['flag']==0)]\n",
    "cluster1=df[(df['flag']==1)]\n",
    "cluster0=cluster0.drop(columns=['flag'])\n",
    "cluster1=cluster1.drop(columns=['flag'])\n",
    "\n",
    "names=cluster0.columns.tolist()\n",
    "#构造画图数据\n",
    "list0=[]\n",
    "list1=[]\n",
    "#遍历列\n",
    "for index, row in cluster0.iteritems():\n",
    "    list0.append(row.tolist())\n",
    "for index, row in cluster1.iteritems():\n",
    "    list1.append(row.tolist())\n",
    "    \n",
    "names"
   ]
  },
  {
   "cell_type": "code",
   "execution_count": 17,
   "metadata": {},
   "outputs": [
    {
     "data": {
      "text/plain": [
       "'D:\\\\Desktop\\\\boxplot_base.html'"
      ]
     },
     "execution_count": 17,
     "metadata": {},
     "output_type": "execute_result"
    }
   ],
   "source": [
    "from pyecharts import options as opts\n",
    "from pyecharts.charts import Boxplot\n",
    "\n",
    "\n",
    "c = Boxplot()\n",
    "c.add_xaxis(names)\n",
    "c.add_yaxis(\"0\", c.prepare_data(list0))\n",
    "c.add_yaxis(\"1\", c.prepare_data(list1))\n",
    "c.set_global_opts(title_opts=opts.TitleOpts(title=\"BoxPlot-基本示例\"))\n",
    "c.render(\"D:/Desktop/boxplot_base.html\")\n"
   ]
  },
  {
   "cell_type": "code",
   "execution_count": 4,
   "metadata": {},
   "outputs": [],
   "source": [
    "#绘制箱线图\n",
    "import seaborn as sns\n",
    "import matplotlib.pyplot as plt\n",
    "sns.set_theme(style=\"whitegrid\")\n",
    "fig,axes=plt.subplots(1,3)\n",
    "ax = sns.boxplot(x='flag',y='CB01',data=df, palette=\"Set3\",ax=axes[0])\n",
    "ax.set_xlabel('CB01')\n",
    "\n",
    "plt.xticks([0,2]) #x轴的刻度值\n",
    "ax = sns.boxplot(x='flag',y='CB02',data=df, palette=\"Set3\",ax=axes[1])\n",
    "ax = sns.boxplot(x='flag',y='CB03',data=df, palette=\"Set3\",ax=axes[2])\n",
    "plt.subplots_adjust(wspace=0.3)#子图很有可能左右靠的很近，调整一下左右距离"
   ]
  },
  {
   "cell_type": "code",
   "execution_count": null,
   "metadata": {},
   "outputs": [],
   "source": []
  }
 ],
 "metadata": {
  "kernelspec": {
   "display_name": "Python 3",
   "language": "python",
   "name": "python3"
  },
  "language_info": {
   "codemirror_mode": {
    "name": "ipython",
    "version": 3
   },
   "file_extension": ".py",
   "mimetype": "text/x-python",
   "name": "python",
   "nbconvert_exporter": "python",
   "pygments_lexer": "ipython3",
   "version": "3.7.3"
  }
 },
 "nbformat": 4,
 "nbformat_minor": 2
}
