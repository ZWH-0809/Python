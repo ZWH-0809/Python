{
 "cells": [
  {
   "cell_type": "code",
   "execution_count": 1,
   "metadata": {},
   "outputs": [],
   "source": [
    "#载入预处理\n",
    "import pandas as pd\n",
    "import numpy as np\n",
    "\n",
    "pacifier=pd.read_csv('C:/Users/LENOVO/Desktop/Problem_C_Data/pacifier.tsv',encoding='ISO-8859-1', sep='\\t',header=0)\n",
    "#dryer=pd.read_csv('C:/Users/LENOVO/Desktop/Problem_C_Data/hair_dryer.tsv',encoding='ISO-8859-1', sep='\\t', header=0)\n",
    "#microwave=pd.read_csv('C:/Users/LENOVO/Desktop/Problem_C_Data/microwave.tsv',encoding='ISO-8859-1',sep='\\t', header=0)\n",
    "\n",
    "#保留购买的评论\n",
    "p0=pacifier[pacifier.verified_purchase.isin(['Y','y'])]\n",
    "\n",
    "#删除不合理星级\n",
    "p0=p0[p0.star_rating.isin([1,2,3,4,5])]\n",
    "#删除冗余列\n",
    "p0=p0.drop(columns=['marketplace','product_category','review_id','verified_purchase','product_parent','review_headline'])\n",
    "#排除nan\n",
    "p0.dropna()\n",
    "#去重复保留最后出现\n",
    "p0.drop_duplicates(keep='last')\n",
    "\n",
    "#统计评论长度\n",
    "review_length=[]\n",
    "for i in p0['review_body']:\n",
    "    #排除nan\n",
    "    if i is np.nan:\n",
    "        i=\"nothing\"    \n",
    "    #统计评论长度\n",
    "    review_length.append(len(i))\n",
    "    \n",
    "\n",
    "    \n",
    "#装入p0\n",
    "p0['review_length']=review_length\n"
   ]
  },
  {
   "cell_type": "code",
   "execution_count": 2,
   "metadata": {},
   "outputs": [
    {
     "name": "stdout",
     "output_type": "stream",
     "text": [
      "\n",
      "训练数据点的数量: 1600\n",
      "测试数据点的数量: 400\n",
      "\n",
      "分类器的准确性: 0.735\n",
      "\n",
      "预测:\n"
     ]
    }
   ],
   "source": [
    "#NTLK情感分析\n",
    "import nltk.classify.util\n",
    "from nltk.classify import NaiveBayesClassifier\n",
    "from nltk.corpus import movie_reviews\n",
    " \n",
    " \n",
    "# 分析句子的情感：情感分析是NLP最受欢迎的应用之一。情感分析是指确定一段给定的文本是积极还是消极的过程。\n",
    "# 有一些场景中，我们还会将“中性“作为第三个选项。情感分析常用于发现人们对于一个特定主题的看法。\n",
    " \n",
    " \n",
    "# 定义一个用于提取特征的函数\n",
    "# 输入一段文本返回形如：{'It': True, 'movie': True, 'amazing': True, 'is': True, 'an': True}\n",
    "# 返回类型是一个dict\n",
    "def extract_features(word_list):\n",
    "    return dict([(word, True) for word in word_list])\n",
    " \n",
    " \n",
    "# 我们需要训练数据，这里将用NLTK提供的电影评论数据\n",
    "if __name__ == '__main__':\n",
    "    # 加载积极与消极评论\n",
    "    positive_fileids = movie_reviews.fileids('pos')     # list类型 1000条数据 每一条是一个txt文件\n",
    "    negative_fileids = movie_reviews.fileids('neg')\n",
    "    # print(type(positive_fileids), len(negative_fileids))\n",
    " \n",
    "    # 将这些评论数据分成积极评论和消极评论\n",
    "    # movie_reviews.words(fileids=[f])表示每一个txt文本里面的内容，结果是单词的列表：['films', 'adapted', 'from', 'comic', 'books', 'have', ...]\n",
    "    # features_positive 结果为一个list\n",
    "    # 结果形如：[({'shakesp: True, 'limit': True, 'mouth': True, ..., 'such': True, 'prophetic': True}, 'Positive'), ..., ({...}, 'Positive'), ...]\n",
    "    features_positive = [(extract_features(movie_reviews.words(fileids=[f])), 'Positive') for f in positive_fileids]\n",
    "    features_negative = [(extract_features(movie_reviews.words(fileids=[f])), 'Negative') for f in negative_fileids]\n",
    " \n",
    "    # 分成训练数据集（80%）和测试数据集（20%）\n",
    "    threshold_factor = 0.8\n",
    "    threshold_positive = int(threshold_factor * len(features_positive))  # 800\n",
    "    threshold_negative = int(threshold_factor * len(features_negative))  # 800\n",
    "    # 提取特征 800个积极文本800个消极文本构成训练集  200+200构成测试文本\n",
    "    features_train = features_positive[:threshold_positive] + features_negative[:threshold_negative]\n",
    "    features_test = features_positive[threshold_positive:] + features_negative[threshold_negative:]\n",
    "    print(\"\\n训练数据点的数量:\", len(features_train))\n",
    "    print(\"测试数据点的数量:\", len(features_test))\n",
    " \n",
    "    # 训练朴素贝叶斯分类器\n",
    "    classifier = NaiveBayesClassifier.train(features_train)\n",
    "    print(\"\\n分类器的准确性:\", nltk.classify.util.accuracy(classifier, features_test))\n",
    " \n",
    "    \n",
    "    # 输入评论\n",
    "    input_reviews = []\n",
    "    \n",
    "    for i in p0['review_body']:\n",
    "        input_reviews.append(str(i))\n",
    "        \n",
    "    scores=[]\n",
    "    # 运行分类器，获得预测结果\n",
    "    print(\"\\n预测:\")\n",
    "    for review in input_reviews:\n",
    "        #print(\"\\n评论:\", review)\n",
    "        probdist = classifier.prob_classify(extract_features(review.split()))\n",
    "        pred_sentiment = probdist.max()\n",
    "        # 打印输出\n",
    "        #print(\"预测情绪:\", pred_sentiment)\n",
    "        #print(\"可能性:\", round(probdist.prob(pred_sentiment), 2))\n",
    "        score=0\n",
    "        score=round(probdist.prob(pred_sentiment), 2)\n",
    "        if pred_sentiment=='Negative':\n",
    "            score=-score\n",
    "        scores.append(score)\n",
    "    #装入p0    \n",
    "    p0['score']=scores\n",
    "    \n",
    "   \n",
    "   "
   ]
  },
  {
   "cell_type": "code",
   "execution_count": 3,
   "metadata": {},
   "outputs": [],
   "source": [
    "#按星级分组\n",
    "p1=p0['product_title'].groupby(p0['star_rating']).size() \n",
    "#print(p1)\n",
    "\n",
    "#按评论分组\n",
    "p2=p0['product_title'].groupby(p0['score']<0).size() \n",
    "#print(p2)\n",
    "\n",
    "#生成综合指标comp\n",
    "p0.eval('cmop=0.4*star_rating+0.6*score',inplace=True)"
   ]
  },
  {
   "cell_type": "code",
   "execution_count": 4,
   "metadata": {},
   "outputs": [
    {
     "data": {
      "image/png": "[encoded data removed]",
      "text/plain": [
       "<Figure size 360x288 with 2 Axes>"
      ]
     },
     "metadata": {
      "needs_background": "light"
     },
     "output_type": "display_data"
    }
   ],
   "source": [
    "#相关性分析\n",
    "pc=p0.loc[:,('star_rating','score')]\n",
    "# 导入可能要用到的库\n",
    "import pandas as pd\n",
    "import numpy as np\n",
    "import matplotlib.pyplot as plt\n",
    "%matplotlib inline\n",
    "\n",
    "# 无量纲化\n",
    "def dimensionlessProcessing(df_values,df_columns):\n",
    "    from sklearn.preprocessing import StandardScaler\n",
    "    scaler = StandardScaler()\n",
    "    res = scaler.fit_transform(df_values)\n",
    "    return pd.DataFrame(res,columns=df_columns)\n",
    "\n",
    "# 求第一列(影响因素)和其它所有列(影响因素)的灰色关联值\n",
    "def GRA_ONE(data,m=0): # m为参考列\n",
    "    # 标准化\n",
    "    data = dimensionlessProcessing(data.values,data.columns)\n",
    "    # 参考数列\n",
    "    std = data.iloc[:,m]\n",
    "    # 比较数列\n",
    "    ce = data.copy()\n",
    "    \n",
    "    n = ce.shape[0]\n",
    "    m = ce.shape[1]\n",
    "    \n",
    "    # 与参考数列比较，相减\n",
    "    grap = np.zeros([n,m])\n",
    "    for i in range(m):\n",
    "        for j in range(n):\n",
    "            grap[j,i] = abs(ce.iloc[j,i] - std[j])\n",
    "            \n",
    "    # 取出矩阵中的最大值和最小值\n",
    "    mmax = np.amax(grap)\n",
    "    mmin = np.amin(grap)\n",
    "    ρ = 0.5 # 灰色分辨系数\n",
    "    \n",
    "    # 计算值\n",
    "    grap = pd.DataFrame(grap).applymap(lambda x:(mmin+ρ*mmax)/(x+ρ*mmax))\n",
    "    \n",
    "    # 求均值，得到灰色关联值\n",
    "    RT = grap.mean(axis=0)\n",
    "    return pd.Series(RT)\n",
    "\n",
    "# 调用GRA_ONE，求得所有因素之间的灰色关联值\n",
    "def GRA(data):\n",
    "    list_columns = np.arange(data.shape[1])\n",
    "    df_local = pd.DataFrame(columns=list_columns)\n",
    "    for i in np.arange(data.shape[1]):\n",
    "        df_local.iloc[:,i] = GRA_ONE(data,m=i)\n",
    "    return df_local\n",
    "\n",
    "data_gra = GRA(pc)\n",
    "data_gra\n",
    "\n",
    "# 结果可视化\n",
    "import seaborn as sns # 可视化图形调用库\n",
    "import matplotlib.pyplot as plt\n",
    "%matplotlib inline\n",
    "\n",
    "def ShowGRAHeatMap(data):\n",
    "    # 色彩集\n",
    "    colormap = plt.cm.Blues\n",
    "    plt.figure(figsize=(5,4))\n",
    "    plt.title('Correlation Between Star_rating and Score',y=1.05,size=18)\n",
    "    sns.heatmap(data.astype(float),linewidths=0.1,vmax=1.0,square=True,\\\n",
    "               cmap=colormap,linecolor='white',annot=True)\n",
    "    plt.show()\n",
    "\n",
    "ShowGRAHeatMap(data_gra)\n"
   ]
  },
  {
   "cell_type": "code",
   "execution_count": 5,
   "metadata": {},
   "outputs": [],
   "source": [
    "#改变时间格式\n",
    "from datetime import datetime\n",
    "a=[]\n",
    "for date in p0['review_date']:\n",
    "    a.append(datetime.strptime(date,'%m/%d/%Y'))\n",
    "p0['review_date']=a\n"
   ]
  },
  {
   "cell_type": "code",
   "execution_count": 16,
   "metadata": {},
   "outputs": [
    {
     "data": {
      "text/plain": [
       "<wordcloud.wordcloud.WordCloud at 0x16b59705748>"
      ]
     },
     "execution_count": 16,
     "metadata": {},
     "output_type": "execute_result"
    }
   ],
   "source": [
    "import wordcloud\n",
    "\n",
    "w=wordcloud.WordCloud(background_color=\"white\")   #——1.创建对象\n",
    "txt=''\n",
    "for state in p0['review_body']:\n",
    "    txt+=str(state)\n",
    "w.generate(txt)   #2.加载文本\n",
    "w.to_file('C:/Users/LENOVO/Desktop/cy1.png')  #3.输出文件\n"
   ]
  },
  {
   "cell_type": "code",
   "execution_count": null,
   "metadata": {},
   "outputs": [],
   "source": []
  }
 ],
 "metadata": {
  "kernelspec": {
   "display_name": "Python 3",
   "language": "python",
   "name": "python3"
  },
  "language_info": {
   "codemirror_mode": {
    "name": "ipython",
    "version": 3
   },
   "file_extension": ".py",
   "mimetype": "text/x-python",
   "name": "python",
   "nbconvert_exporter": "python",
   "pygments_lexer": "ipython3",
   "version": "3.7.3"
  }
 },
 "nbformat": 4,
 "nbformat_minor": 2
}
